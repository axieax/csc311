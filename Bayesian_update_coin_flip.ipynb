{
  "cells": [
    {
      "cell_type": "markdown",
      "metadata": {
        "id": "view-in-github",
        "colab_type": "text"
      },
      "source": [
        "<a href=\"https://colab.research.google.com/github/axieax/csc311/blob/main/Bayesian_update_coin_flip.ipynb\" target=\"_parent\"><img src=\"https://colab.research.google.com/assets/colab-badge.svg\" alt=\"Open In Colab\"/></a>"
      ]
    },
    {
      "cell_type": "markdown",
      "metadata": {
        "id": "27BiuO8M2r-c"
      },
      "source": [
        "# Posterior updates in a coin flipping experiment\n",
        "\n",
        "Suppose, naively, that you are unsure about the probability of heads in a coin flip (spoiler alert: it's 50%). You believe there is some true underlying ratio, call it p, but have no prior opinion on what p might be.\n",
        "\n",
        "We begin to flip a coin, and record the observations: either H or T. This is our observed x. An interesting question to ask is how our inference changes as we observe more and more x? More specifically, what do our posterior probabilities look like when we have little x, versus when we have lots of x.\n",
        "\n",
        "Below we plot a sequence of updating posterior probabilities as we observe increasing amounts of x (coin flips)."
      ]
    },
    {
      "cell_type": "code",
      "source": [
        "%matplotlib inline\n",
        "import math\n",
        "from IPython.core.pylabtools import figsize\n",
        "import numpy as np\n",
        "from matplotlib import pyplot as plt\n",
        "figsize(11, 9)\n",
        "\n",
        "import scipy.stats as stats"
      ],
      "metadata": {
        "id": "k6q0M8Fd2Bg9"
      },
      "execution_count": null,
      "outputs": []
    },
    {
      "cell_type": "code",
      "source": [
        "# the conjugate prior distribution for bernouli aka Beta distribution p(mu|a,b)\n",
        "# see below for details\n",
        "dist = stats.beta"
      ],
      "metadata": {
        "id": "s6VtlP0s3bwr"
      },
      "execution_count": null,
      "outputs": []
    },
    {
      "cell_type": "code",
      "source": [
        "#number of trails\n",
        "n_trials = 100\n",
        "\n",
        "# x is a binary variable {0,1} drawn from the bernoulli distribution p(x|mu) with parameter mu*=0.5\n",
        "# where we interprete the heads as \"1\" and the tails outcome as \"0\"\n",
        "# we **dont know** the parameter mu* \n",
        "x = stats.bernoulli.rvs(0.5, size=n_trials)\n",
        "#p_x = stats.bernoulli(0.5)\n",
        "#print(\"all 500 tosses = \", x)\n",
        "\n",
        "# mu is the posterior that can take values between 0 and 1 (here we create a vector of length 100 of possible \n",
        "# values of such parameter (i.e. resolution 0.01). \n",
        "mu = np.linspace(0, 1, 100)"
      ],
      "metadata": {
        "id": "mMJPtjDZ2FkF"
      },
      "execution_count": null,
      "outputs": []
    },
    {
      "cell_type": "code",
      "source": [
        "#sx = plt.subplot(len(n_trials)/2, 2, k+1)\n",
        "#plt.xlabel(\"$p$, probability of heads\") \\\n",
        "#    if k in [0, len(n_trials)-1] else None\n",
        "#plt.setp(sx.get_yticklabels(), visible=False)\n",
        "\n",
        "# number of heads in this trial (we use the sum to count the number of 1s)\n",
        "# print(\"x(tosses)=\", x[:N])\n",
        "heads = x.sum()\n",
        "#print(\"number of heads in this trial\", heads)\n",
        "\n",
        "# p(mu|a,b) from the beta distribution \n",
        "# the distribution has two parameters (see Annex B of Bishop). \n",
        "# parameter a = observations of heads \n",
        "# parameter b = observations of tails\n",
        "# the 1+ term in both parameters serves the purpose of establishing a uniform prior \n",
        "# when N=0 (x is in this case empty and obviously heads = 0)\n",
        "p_mu = dist.pdf(mu, 1+heads, 1+n_trials - heads)\n",
        "#print('p_mu = ', p_mu)\n",
        "\n",
        "# likelihood \n",
        "likelihood = mu**heads * (1-mu)**(n_trials-heads)\n",
        "#print('likelihood=',likelihood)\n",
        "\n",
        "# evidence\n",
        "evidence = math.factorial(heads) * math.factorial(n_trials-heads) / math.factorial(1 + n_trials)\n",
        "\n",
        "#posterior\n",
        "posterior = likelihood*p_mu/evidence\n",
        "#print('posterior=',posterior)\n",
        "\n",
        "plt.plot(mu, posterior, label=\"observe %d tosses,\\n %d heads\" % (n_trials, heads))\n",
        "plt.fill_between(mu, 0, posterior, color=\"#348ABD\", alpha=0.4)\n",
        "plt.vlines(0.5, 0, 4, color=\"k\", linestyles=\"--\", lw=1)"
      ],
      "metadata": {
        "colab": {
          "base_uri": "https://localhost:8080/",
          "height": 554
        },
        "id": "roeRfpov2l9S",
        "outputId": "5781c66d-1637-4a9f-9f16-0f2422e70f1a"
      },
      "execution_count": null,
      "outputs": [
        {
          "output_type": "execute_result",
          "data": {
            "text/plain": [
              "<matplotlib.collections.LineCollection at 0x7f4fd4748310>"
            ]
          },
          "metadata": {},
          "execution_count": 4
        },
        {
          "output_type": "display_data",
          "data": {
            "text/plain": [
              "<Figure size 792x648 with 1 Axes>"
            ],
            "image/png": "[encoded data removed]"
          },
          "metadata": {
            "needs_background": "light"
          }
        }
      ]
    },
    {
      "cell_type": "code",
      "execution_count": null,
      "metadata": {
        "id": "VxhCeqrD13bq"
      },
      "outputs": [],
      "source": []
    }
  ],
  "metadata": {
    "colab": {
      "provenance": [],
      "include_colab_link": true
    },
    "kernelspec": {
      "display_name": "Python 3",
      "language": "python",
      "name": "python3"
    },
    "language_info": {
      "codemirror_mode": {
        "name": "ipython",
        "version": 3
      },
      "file_extension": ".py",
      "mimetype": "text/x-python",
      "name": "python",
      "nbconvert_exporter": "python",
      "pygments_lexer": "ipython3",
      "version": "3.6.7"
    },
    "toc": {
      "base_numbering": 1,
      "nav_menu": {},
      "number_sections": true,
      "sideBar": true,
      "skip_h1_title": false,
      "title_cell": "Table of Contents",
      "title_sidebar": "Contents",
      "toc_cell": false,
      "toc_position": {},
      "toc_section_display": true,
      "toc_window_display": false
    }
  },
  "nbformat": 4,
  "nbformat_minor": 0
}